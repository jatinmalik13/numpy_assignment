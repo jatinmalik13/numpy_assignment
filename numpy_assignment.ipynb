{
 "cells": [
  {
   "cell_type": "code",
   "execution_count": 1,
   "id": "75ceddbb-a526-4925-ab64-7dd73b840c24",
   "metadata": {},
   "outputs": [
    {
     "data": {
      "text/plain": [
       "'1. What is a Python library? Why do we use Python libraries?   '"
      ]
     },
     "execution_count": 1,
     "metadata": {},
     "output_type": "execute_result"
    }
   ],
   "source": [
    "'''1. What is a Python library? Why do we use Python libraries?   '''\n",
    "\n",
    "# ans \n",
    "\n",
    "# A Python library is a collection of pre-written code that allows you to perform common programming tasks without having to write the code from scratch. These libraries consist of modules, which are files containing Python code (functions, classes, and variables) that can be reused in other programs."
   ]
  },
  {
   "cell_type": "code",
   "execution_count": 2,
   "id": "bac5fb8b-208d-4e47-8e19-633784554d1d",
   "metadata": {},
   "outputs": [
    {
     "data": {
      "text/plain": [
       "'Python List:\\nDefinition: A built-in Python data structure that can hold a collection of items of different types.\\nFlexibility: Lists can contain different data types, such as integers, strings, and other objects.\\nNumPy Array:\\nDefinition: A powerful, multidimensional array object provided by the NumPy library, designed for numerical computations.\\nHomogeneity: NumPy arrays are homogeneous, meaning all elements must be of the same type (e.g., all integers or all floats).'"
      ]
     },
     "execution_count": 2,
     "metadata": {},
     "output_type": "execute_result"
    }
   ],
   "source": [
    "# 2. What is the difference between Numpy array and List?\n",
    "\n",
    "# ans\n",
    "\n",
    "'''Python List:\n",
    "Definition: A built-in Python data structure that can hold a collection of items of different types.\n",
    "Flexibility: Lists can contain different data types, such as integers, strings, and other objects.\n",
    "NumPy Array:\n",
    "Definition: A powerful, multidimensional array object provided by the NumPy library, designed for numerical computations.\n",
    "Homogeneity: NumPy arrays are homogeneous, meaning all elements must be of the same type (e.g., all integers or all floats).'''"
   ]
  },
  {
   "cell_type": "code",
   "execution_count": 8,
   "id": "7389de08-cdc0-464a-b4fa-4f787b513625",
   "metadata": {},
   "outputs": [
    {
     "name": "stdout",
     "output_type": "stream",
     "text": [
      "(3, 4) 2\n"
     ]
    }
   ],
   "source": [
    "# 3. Find the shape, size and dimension of the following array?  [[1, 2, 3, 4]  [5, 6, 7, 8],  [9, 10, 11, 12]\n",
    "\n",
    "\n",
    "import numpy as np\n",
    "\n",
    "\n",
    "array = np.array([[1, 2, 3, 4], [5, 6, 7, 8], [9, 10, 11, 12]])\n",
    "\n",
    "\n",
    "\n",
    "print(array.shape , array.ndim)"
   ]
  },
  {
   "cell_type": "code",
   "execution_count": null,
   "id": "54503e5e-46d7-4247-bd9b-83815ecab745",
   "metadata": {},
   "outputs": [],
   "source": []
  },
  {
   "cell_type": "code",
   "execution_count": 9,
   "id": "f4a1d127-dd7f-40d1-a1cc-ba6c384b3cfb",
   "metadata": {},
   "outputs": [
    {
     "name": "stdout",
     "output_type": "stream",
     "text": [
      "First row: [1 2 3 4]\n"
     ]
    }
   ],
   "source": [
    "# 4. Write python code to access the first row of the following array?  [[1, 2, 3, 4]  [5, 6, 7, 8],  [9, 10, 11, 12]] \n",
    "\n",
    "array = np.array([[1, 2, 3, 4], [5, 6, 7, 8], [9, 10, 11, 12]])\n",
    "\n",
    "first_row = array[0]\n",
    "\n",
    "print(\"First row:\", first_row)\n"
   ]
  },
  {
   "cell_type": "code",
   "execution_count": 10,
   "id": "912ae4a3-6919-4a46-a0b4-437f6cf23728",
   "metadata": {},
   "outputs": [
    {
     "name": "stdout",
     "output_type": "stream",
     "text": [
      "Element at the third row and fourth column: 12\n"
     ]
    }
   ],
   "source": [
    "# 5. How do you access the element at the third row and fourth column from the given numpy array?  [[1, 2, 3, 4]  [5, 6, 7, 8],  [9, 10, 11, 12]]  \n",
    "\n",
    "# NAS\n",
    "\n",
    "array = np.array([[1, 2, 3, 4], [5, 6, 7, 8], [9, 10, 11, 12]])\n",
    "\n",
    "element = array[2, 3]\n",
    "\n",
    "print(\"Element at the third row and fourth column:\", element)\n"
   ]
  },
  {
   "cell_type": "code",
   "execution_count": 11,
   "id": "379def16-93f8-40af-b1e0-8a434980c0df",
   "metadata": {},
   "outputs": [
    {
     "name": "stdout",
     "output_type": "stream",
     "text": [
      "Odd-indexed elements:\n",
      "[[ 2  4]\n",
      " [ 6  8]\n",
      " [10 12]]\n"
     ]
    }
   ],
   "source": [
    "# 6. Write code to extract all odd-indexed elements from the given numpy array?  [[1, 2, 3, 4]  [5, 6, 7, 8],  [9, 10, 11, 12]] \n",
    "\n",
    "# ans\n",
    "\n",
    "\n",
    "array = np.array([[1, 2, 3, 4], [5, 6, 7, 8], [9, 10, 11, 12]])\n",
    "\n",
    "\n",
    "\n",
    "odd_indexed_elements = array[:, 1::2]\n",
    "\n",
    "print(\"Odd-indexed elements:\")\n",
    "print(odd_indexed_elements)\n"
   ]
  },
  {
   "cell_type": "code",
   "execution_count": 12,
   "id": "6e9311e1-cab4-471e-be8a-5bb88339b5fc",
   "metadata": {},
   "outputs": [
    {
     "name": "stdout",
     "output_type": "stream",
     "text": [
      "Random 3x3 matrix with values between 0 and 1:\n",
      "[[0.07792406 0.74968581 0.04126375]\n",
      " [0.28145324 0.57365204 0.96765162]\n",
      " [0.8165516  0.50389764 0.64119539]]\n"
     ]
    }
   ],
   "source": [
    "# 7. How can you generate a random 3x3 matrix with values between 0 and 1?  \n",
    "\n",
    "# ans \n",
    "\n",
    "import numpy as np\n",
    "\n",
    "\n",
    "random_matrix = np.random.rand(3, 3)\n",
    "\n",
    "print(\"Random 3x3 matrix with values between 0 and 1:\")\n",
    "print(random_matrix)\n"
   ]
  },
  {
   "cell_type": "code",
   "execution_count": 13,
   "id": "63bece53-338d-43ec-a28f-0350db3b1502",
   "metadata": {},
   "outputs": [
    {
     "name": "stdout",
     "output_type": "stream",
     "text": [
      "Uniform random matrix:\n",
      "[[0.24437465 0.22703841 0.65395412]\n",
      " [0.96664165 0.69279314 0.41128119]\n",
      " [0.15997418 0.99471811 0.87793869]]\n"
     ]
    }
   ],
   "source": [
    "# 8. Describe the difference between np.random.rand and np.random.randn?\n",
    "\n",
    "# ans\n",
    "\n",
    "import numpy as np\n",
    "\n",
    "\n",
    "uniform_random_matrix = np.random.rand(3, 3)\n",
    "\n",
    "print(\"Uniform random matrix:\")\n",
    "print(uniform_random_matrix)\n"
   ]
  },
  {
   "cell_type": "code",
   "execution_count": 15,
   "id": "271e1368-b0b6-41e9-adf7-3122278d36d8",
   "metadata": {},
   "outputs": [
    {
     "name": "stdout",
     "output_type": "stream",
     "text": [
      "Array with an added dimension (axis=0):\n",
      "[[[ 1  2  3  4]\n",
      "  [ 5  6  7  8]\n",
      "  [ 9 10 11 12]]]\n",
      "Shape: (1, 3, 4)\n"
     ]
    }
   ],
   "source": [
    "# Write code to increase the dimension of the following array?  [[1, 2, 3, 4]  [5, 6, 7, 8],  [9, 10, 11, 12]] \n",
    "\n",
    "# ans\n",
    "\n",
    "array = np.array([[1, 2, 3, 4], [5, 6, 7, 8], [9, 10, 11, 12]])\n",
    "\n",
    "\n",
    "expanded_array = np.expand_dims(array, axis=0)\n",
    "\n",
    "print(\"Array with an added dimension (axis=0):\")\n",
    "print(expanded_array)\n",
    "print(\"Shape:\", expanded_array.shape)\n"
   ]
  },
  {
   "cell_type": "code",
   "execution_count": 16,
   "id": "dddb3ac6-be91-4daf-8de6-288ebf836416",
   "metadata": {},
   "outputs": [
    {
     "name": "stdout",
     "output_type": "stream",
     "text": [
      "Transposed array using np.transpose():\n",
      "[[ 1  5  9]\n",
      " [ 2  6 10]\n",
      " [ 3  7 11]\n",
      " [ 4  8 12]]\n"
     ]
    }
   ],
   "source": [
    "# 10. How to transpose the following array in NumPy?  [[1, 2, 3, 4]  [5, 6, 7, 8],  [9, 10, 11, 12]] \n",
    "\n",
    "# ans\n",
    "\n",
    "array = np.array([[1, 2, 3, 4], [5, 6, 7, 8], [9, 10, 11, 12]])\n",
    "\n",
    "transposed_array = np.transpose(array)\n",
    "\n",
    "print(\"Transposed array using np.transpose():\")\n",
    "print(transposed_array)"
   ]
  },
  {
   "cell_type": "code",
   "execution_count": 19,
   "id": "2005c778-8289-4bac-87a4-4402ca550d59",
   "metadata": {},
   "outputs": [
    {
     "name": "stdout",
     "output_type": "stream",
     "text": [
      "Element-wise multiplication result:\n",
      "[[  1   4   9  16]\n",
      " [ 25  36  49  64]\n",
      " [ 81 100 121 144]]\n",
      "Matrix multiplication result:\n",
      "[[ 30  70 110]\n",
      " [ 70 174 278]\n",
      " [110 278 446]]\n",
      "Matrix addition result:\n",
      "[[ 2  4  6  8]\n",
      " [10 12 14 16]\n",
      " [18 20 22 24]]\n",
      "Matrix subtraction result:\n",
      "[[0 0 0 0]\n",
      " [0 0 0 0]\n",
      " [0 0 0 0]]\n"
     ]
    }
   ],
   "source": [
    "'''11. Consider the following matrix:  Matrix A: [[1, 2, 3, 4] [5, 6, 7, 8],[9, 10, 11, 12]]  Matrix B: [[1, 2, 3, 4] [5, 6, 7, 8],[9, 10, 11, 12]]   \n",
    "Perform the following operation using Python \n",
    "Index wise multiplicatio\n",
    "Matrix multiplicatio\n",
    "Add both the matric \n",
    "Subtract matrix B from a Divide Matrix B by A'''\n",
    "\n",
    "# ans \n",
    "\n",
    "import numpy as np\n",
    "\n",
    "# Define matrices A and B\n",
    "matrix_A = np.array([[1, 2, 3, 4], [5, 6, 7, 8], [9, 10, 11, 12]])\n",
    "matrix_B = np.array([[1, 2, 3, 4], [5, 6, 7, 8], [9, 10, 11, 12]])\n",
    "\n",
    "result = matrix_A * matrix_B\n",
    "\n",
    "print(\"Element-wise multiplication result:\")\n",
    "print(result)\n",
    "\n",
    "matrix_A = np.array([[1, 2, 3, 4], [5, 6, 7, 8], [9, 10, 11, 12]])\n",
    "matrix_B = np.array([[1, 2, 3, 4], [5, 6, 7, 8], [9, 10, 11, 12]])\n",
    "\n",
    "result = np.dot(matrix_A, matrix_B.T)\n",
    "\n",
    "print(\"Matrix multiplication result:\")\n",
    "print(result)\n",
    "\n",
    "\n",
    "matrix_A = np.array([[1, 2, 3, 4], [5, 6, 7, 8], [9, 10, 11, 12]])\n",
    "matrix_B = np.array([[1, 2, 3, 4], [5, 6, 7, 8], [9, 10, 11, 12]])\n",
    "\n",
    "result = matrix_A + matrix_B\n",
    "\n",
    "print(\"Matrix addition result:\")\n",
    "print(result)\n",
    "\n",
    "matrix_A = np.array([[1, 2, 3, 4], [5, 6, 7, 8], [9, 10, 11, 12]])\n",
    "matrix_B = np.array([[1, 2, 3, 4], [5, 6, 7, 8], [9, 10, 11, 12]])\n",
    "result = matrix_A - matrix_B\n",
    "\n",
    "print(\"Matrix subtraction result:\")\n",
    "print(result)"
   ]
  },
  {
   "cell_type": "code",
   "execution_count": null,
   "id": "3b76ff8f-2a72-4818-8c98-069d7ea904eb",
   "metadata": {},
   "outputs": [],
   "source": [
    "'''12. Which function in Numpy can be used to swap the byte order of an array?  13. What is the significance of the np.linalg.inv function?  14. What does the np.reshape function do, and how is it used?  15. What is broadcasting in Numpy?  '''\n",
    "\n",
    "# /ans \n",
    "\n",
    "# The function used to swap the byte order of an array in NumPy is np.ndarray.byteswap().\n",
    "\n",
    "# The np.linalg.inv function in NumPy is used to compute the inverse of a square matrix.\n",
    "\n",
    "# The np.reshape function in NumPy changes the shape of an array without changing its data.\n",
    "\n",
    "'''Broadcasting is a set of rules in NumPy that allows arrays of different shapes to be used together in arithmetic operations. It provides a way to perform element-wise operations on arrays of different shapes by automatically expanding the smaller array to match the shape of the larger array.'''\n",
    "\n"
   ]
  }
 ],
 "metadata": {
  "kernelspec": {
   "display_name": "Python 3 (ipykernel)",
   "language": "python",
   "name": "python3"
  },
  "language_info": {
   "codemirror_mode": {
    "name": "ipython",
    "version": 3
   },
   "file_extension": ".py",
   "mimetype": "text/x-python",
   "name": "python",
   "nbconvert_exporter": "python",
   "pygments_lexer": "ipython3",
   "version": "3.12.0"
  }
 },
 "nbformat": 4,
 "nbformat_minor": 5
}
